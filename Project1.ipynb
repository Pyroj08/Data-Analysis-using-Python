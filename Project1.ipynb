{
 "cells": [
  {
   "cell_type": "code",
   "execution_count": null,
   "id": "2627c0b0-b242-4647-bb71-60291c3c5bf8",
   "metadata": {},
   "outputs": [],
   "source": [
    "import pandas as pd\n",
    "import matplotlib.pyplot as plt\n",
    "import seaborn as sns"
   ]
  },
  {
   "cell_type": "code",
   "execution_count": null,
   "id": "cde41383-a64c-4165-aadb-55627f6c47f0",
   "metadata": {},
   "outputs": [],
   "source": [
    "data = pd.read_csv('C:\\\\Users\\\\vaibh\\\\Desktop\\\\sales_data_sample.csv', encoding='ISO-8859-1')"
   ]
  },
  {
   "cell_type": "code",
   "execution_count": null,
   "id": "c32a9a4b-336f-42a2-8f94-850bac9edd16",
   "metadata": {},
   "outputs": [],
   "source": [
    "data.head()"
   ]
  },
  {
   "cell_type": "code",
   "execution_count": null,
   "id": "cc24e80c-6f7f-426e-93a7-8a30f1d38a09",
   "metadata": {},
   "outputs": [],
   "source": [
    "data.isnull().sum()"
   ]
  },
  {
   "cell_type": "code",
   "execution_count": null,
   "id": "0a676d00-ed54-4409-851f-2e6883ed7364",
   "metadata": {},
   "outputs": [],
   "source": [
    "data.dropna(inplace=True)"
   ]
  },
  {
   "cell_type": "code",
   "execution_count": null,
   "id": "5b50fec0-1ed9-4618-9b83-6618afcff499",
   "metadata": {},
   "outputs": [],
   "source": [
    "print(data.describe())"
   ]
  },
  {
   "cell_type": "code",
   "execution_count": null,
   "id": "32ca3a82-c77f-4830-9e5e-940828f82e87",
   "metadata": {},
   "outputs": [],
   "source": [
    "data.groupby('YEAR_ID')['SALES'].sum().plot(kind='bar',color='c',width=0.5)\n",
    "plt.rcParams[\"figure.figsize\"]=(8,8)\n",
    "plt.title('Yearly Sales')\n",
    "plt.xlabel('Year')\n",
    "plt.ylabel('Total Sales')\n",
    "plt.show()"
   ]
  },
  {
   "cell_type": "code",
   "execution_count": null,
   "id": "a708fdff-9bab-4240-8427-3638105850ab",
   "metadata": {},
   "outputs": [],
   "source": [
    "data.groupby('PRODUCTLINE')['SALES'].sum().plot(kind='pie',color='r',startangle=90)\n",
    "plt.rcParams[\"figure.figsize\"]=(5,5)\n",
    "plt.title('Sales by Product Type')\n",
    "plt.xlabel('Product Type')\n",
    "plt.ylabel('Total Sales')\n",
    "plt.legend()\n",
    "plt.show()"
   ]
  },
  {
   "cell_type": "code",
   "execution_count": null,
   "id": "76130fda-5a47-49d3-9051-f3af195c0922",
   "metadata": {},
   "outputs": [],
   "source": [
    "data.groupby('PRODUCTLINE')['SALES'].sum().plot(kind='pie',color='r',startangle=90,explode=[0.1,0.1,0.1,0.1,0.1,0.1])\n",
    "plt.rcParams[\"figure.figsize\"]=(8,8)\n",
    "plt.title('Sales by Product Type')\n",
    "plt.xlabel('Product Type')\n",
    "plt.ylabel('Total Sales')\n",
    "plt.show()"
   ]
  },
  {
   "cell_type": "code",
   "execution_count": null,
   "id": "360cf7fc-2b18-4c0d-bf58-c7a697d4d292",
   "metadata": {},
   "outputs": [],
   "source": [
    "sns.histplot(data['SALES'],color='blue')\n",
    "plt.rcParams[\"figure.figsize\"]=(20,10)\n",
    "plt.title('Distribution of Sales')\n",
    "plt.xlabel('Sales')\n",
    "plt.ylabel('Frequency')\n",
    "plt.show()"
   ]
  },
  {
   "cell_type": "code",
   "execution_count": null,
   "id": "583539b1-5635-4c3a-8947-551c89e7514d",
   "metadata": {},
   "outputs": [],
   "source": [
    "numeric_data = data.select_dtypes(include=['number'])\n",
    "sns.heatmap(numeric_data.corr(), annot=True, cmap='coolwarm')\n",
    "plt.show()"
   ]
  }
 ],
 "metadata": {
  "kernelspec": {
   "display_name": "Python 3 (ipykernel)",
   "language": "python",
   "name": "python3"
  },
  "language_info": {
   "codemirror_mode": {
    "name": "ipython",
    "version": 3
   },
   "file_extension": ".py",
   "mimetype": "text/x-python",
   "name": "python",
   "nbconvert_exporter": "python",
   "pygments_lexer": "ipython3",
   "version": "3.12.4"
  }
 },
 "nbformat": 4,
 "nbformat_minor": 5
}
